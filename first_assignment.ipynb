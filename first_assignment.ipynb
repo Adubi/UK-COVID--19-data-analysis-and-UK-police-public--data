{
 "cells": [
  {
   "cell_type": "code",
   "execution_count": 2,
   "metadata": {},
   "outputs": [],
   "source": [
    "import pandas as pd\n",
    "import matplotlib.pyplot as plt\n",
    "import seaborn as sns\n",
    "from typing import List, Tuple\n",
    "from datetime import datetime"
   ]
  },
  {
   "cell_type": "code",
   "execution_count": 3,
   "metadata": {},
   "outputs": [],
   "source": [
    "specimen = pd.read_csv(\"specimenDate_ageDemographic-unstacked.xls - specimenDate_ageDemographic-unstacked.csv\")"
   ]
  },
  {
   "cell_type": "code",
   "execution_count": 4,
   "metadata": {},
   "outputs": [],
   "source": [
    "new_data = specimen[['areaType', 'areaCode', 'areaName', 'date', 'newCasesBySpecimenDate-0_4', 'newCasesBySpecimenDate-0_59',\n",
    "       'newCasesBySpecimenDate-10_14', 'newCasesBySpecimenDate-15_19',\n",
    "       'newCasesBySpecimenDate-20_24', 'newCasesBySpecimenDate-25_29',\n",
    "       'newCasesBySpecimenDate-30_34', 'newCasesBySpecimenDate-35_39',\n",
    "       'newCasesBySpecimenDate-40_44', 'newCasesBySpecimenDate-45_49',\n",
    "       'newCasesBySpecimenDate-50_54', 'newCasesBySpecimenDate-55_59',\n",
    "       'newCasesBySpecimenDate-5_9', 'newCasesBySpecimenDate-60+',\n",
    "       'newCasesBySpecimenDate-60_64', 'newCasesBySpecimenDate-65_69',\n",
    "       'newCasesBySpecimenDate-70_74', 'newCasesBySpecimenDate-75_79',\n",
    "       'newCasesBySpecimenDate-80_84', 'newCasesBySpecimenDate-85_89',\n",
    "       'newCasesBySpecimenDate-90+', 'newCasesBySpecimenDate-unassigned',]]"
   ]
  },
  {
   "cell_type": "code",
   "execution_count": 5,
   "metadata": {},
   "outputs": [],
   "source": [
    "temp = new_data[new_data[\"date\"].between(\"2020-03-16\", \"2020-04-01\")]"
   ]
  },
  {
   "cell_type": "code",
   "execution_count": 6,
   "metadata": {},
   "outputs": [
    {
     "data": {
      "text/html": [
       "<div>\n",
       "<style scoped>\n",
       "    .dataframe tbody tr th:only-of-type {\n",
       "        vertical-align: middle;\n",
       "    }\n",
       "\n",
       "    .dataframe tbody tr th {\n",
       "        vertical-align: top;\n",
       "    }\n",
       "\n",
       "    .dataframe thead th {\n",
       "        text-align: right;\n",
       "    }\n",
       "</style>\n",
       "<table border=\"1\" class=\"dataframe\">\n",
       "  <thead>\n",
       "    <tr style=\"text-align: right;\">\n",
       "      <th></th>\n",
       "      <th>areaType</th>\n",
       "      <th>areaCode</th>\n",
       "      <th>areaName</th>\n",
       "      <th>date</th>\n",
       "      <th>newCasesBySpecimenDate-0_4</th>\n",
       "      <th>newCasesBySpecimenDate-0_59</th>\n",
       "      <th>newCasesBySpecimenDate-10_14</th>\n",
       "      <th>newCasesBySpecimenDate-15_19</th>\n",
       "      <th>newCasesBySpecimenDate-20_24</th>\n",
       "      <th>newCasesBySpecimenDate-25_29</th>\n",
       "      <th>...</th>\n",
       "      <th>newCasesBySpecimenDate-5_9</th>\n",
       "      <th>newCasesBySpecimenDate-60+</th>\n",
       "      <th>newCasesBySpecimenDate-60_64</th>\n",
       "      <th>newCasesBySpecimenDate-65_69</th>\n",
       "      <th>newCasesBySpecimenDate-70_74</th>\n",
       "      <th>newCasesBySpecimenDate-75_79</th>\n",
       "      <th>newCasesBySpecimenDate-80_84</th>\n",
       "      <th>newCasesBySpecimenDate-85_89</th>\n",
       "      <th>newCasesBySpecimenDate-90+</th>\n",
       "      <th>newCasesBySpecimenDate-unassigned</th>\n",
       "    </tr>\n",
       "  </thead>\n",
       "  <tbody>\n",
       "    <tr>\n",
       "      <th>0</th>\n",
       "      <td>ltla</td>\n",
       "      <td>E06000001</td>\n",
       "      <td>Hartlepool</td>\n",
       "      <td>2020-03-16</td>\n",
       "      <td>0</td>\n",
       "      <td>0</td>\n",
       "      <td>0</td>\n",
       "      <td>0</td>\n",
       "      <td>0</td>\n",
       "      <td>0</td>\n",
       "      <td>...</td>\n",
       "      <td>0</td>\n",
       "      <td>1</td>\n",
       "      <td>1</td>\n",
       "      <td>0</td>\n",
       "      <td>0</td>\n",
       "      <td>0</td>\n",
       "      <td>0</td>\n",
       "      <td>0</td>\n",
       "      <td>0</td>\n",
       "      <td>0</td>\n",
       "    </tr>\n",
       "    <tr>\n",
       "      <th>1</th>\n",
       "      <td>ltla</td>\n",
       "      <td>E06000001</td>\n",
       "      <td>Hartlepool</td>\n",
       "      <td>2020-03-17</td>\n",
       "      <td>0</td>\n",
       "      <td>0</td>\n",
       "      <td>0</td>\n",
       "      <td>0</td>\n",
       "      <td>0</td>\n",
       "      <td>0</td>\n",
       "      <td>...</td>\n",
       "      <td>0</td>\n",
       "      <td>0</td>\n",
       "      <td>0</td>\n",
       "      <td>0</td>\n",
       "      <td>0</td>\n",
       "      <td>0</td>\n",
       "      <td>0</td>\n",
       "      <td>0</td>\n",
       "      <td>0</td>\n",
       "      <td>0</td>\n",
       "    </tr>\n",
       "    <tr>\n",
       "      <th>2</th>\n",
       "      <td>ltla</td>\n",
       "      <td>E06000001</td>\n",
       "      <td>Hartlepool</td>\n",
       "      <td>2020-03-18</td>\n",
       "      <td>0</td>\n",
       "      <td>0</td>\n",
       "      <td>0</td>\n",
       "      <td>0</td>\n",
       "      <td>0</td>\n",
       "      <td>0</td>\n",
       "      <td>...</td>\n",
       "      <td>0</td>\n",
       "      <td>1</td>\n",
       "      <td>0</td>\n",
       "      <td>0</td>\n",
       "      <td>0</td>\n",
       "      <td>0</td>\n",
       "      <td>1</td>\n",
       "      <td>0</td>\n",
       "      <td>0</td>\n",
       "      <td>0</td>\n",
       "    </tr>\n",
       "    <tr>\n",
       "      <th>3</th>\n",
       "      <td>ltla</td>\n",
       "      <td>E06000001</td>\n",
       "      <td>Hartlepool</td>\n",
       "      <td>2020-03-19</td>\n",
       "      <td>0</td>\n",
       "      <td>0</td>\n",
       "      <td>0</td>\n",
       "      <td>0</td>\n",
       "      <td>0</td>\n",
       "      <td>0</td>\n",
       "      <td>...</td>\n",
       "      <td>0</td>\n",
       "      <td>0</td>\n",
       "      <td>0</td>\n",
       "      <td>0</td>\n",
       "      <td>0</td>\n",
       "      <td>0</td>\n",
       "      <td>0</td>\n",
       "      <td>0</td>\n",
       "      <td>0</td>\n",
       "      <td>0</td>\n",
       "    </tr>\n",
       "    <tr>\n",
       "      <th>4</th>\n",
       "      <td>ltla</td>\n",
       "      <td>E06000001</td>\n",
       "      <td>Hartlepool</td>\n",
       "      <td>2020-03-20</td>\n",
       "      <td>0</td>\n",
       "      <td>0</td>\n",
       "      <td>0</td>\n",
       "      <td>0</td>\n",
       "      <td>0</td>\n",
       "      <td>0</td>\n",
       "      <td>...</td>\n",
       "      <td>0</td>\n",
       "      <td>1</td>\n",
       "      <td>0</td>\n",
       "      <td>0</td>\n",
       "      <td>0</td>\n",
       "      <td>0</td>\n",
       "      <td>0</td>\n",
       "      <td>1</td>\n",
       "      <td>0</td>\n",
       "      <td>0</td>\n",
       "    </tr>\n",
       "  </tbody>\n",
       "</table>\n",
       "<p>5 rows × 26 columns</p>\n",
       "</div>"
      ],
      "text/plain": [
       "  areaType   areaCode    areaName        date  newCasesBySpecimenDate-0_4  \\\n",
       "0     ltla  E06000001  Hartlepool  2020-03-16                           0   \n",
       "1     ltla  E06000001  Hartlepool  2020-03-17                           0   \n",
       "2     ltla  E06000001  Hartlepool  2020-03-18                           0   \n",
       "3     ltla  E06000001  Hartlepool  2020-03-19                           0   \n",
       "4     ltla  E06000001  Hartlepool  2020-03-20                           0   \n",
       "\n",
       "   newCasesBySpecimenDate-0_59  newCasesBySpecimenDate-10_14  \\\n",
       "0                            0                             0   \n",
       "1                            0                             0   \n",
       "2                            0                             0   \n",
       "3                            0                             0   \n",
       "4                            0                             0   \n",
       "\n",
       "   newCasesBySpecimenDate-15_19  newCasesBySpecimenDate-20_24  \\\n",
       "0                             0                             0   \n",
       "1                             0                             0   \n",
       "2                             0                             0   \n",
       "3                             0                             0   \n",
       "4                             0                             0   \n",
       "\n",
       "   newCasesBySpecimenDate-25_29  ...  newCasesBySpecimenDate-5_9  \\\n",
       "0                             0  ...                           0   \n",
       "1                             0  ...                           0   \n",
       "2                             0  ...                           0   \n",
       "3                             0  ...                           0   \n",
       "4                             0  ...                           0   \n",
       "\n",
       "   newCasesBySpecimenDate-60+  newCasesBySpecimenDate-60_64  \\\n",
       "0                           1                             1   \n",
       "1                           0                             0   \n",
       "2                           1                             0   \n",
       "3                           0                             0   \n",
       "4                           1                             0   \n",
       "\n",
       "   newCasesBySpecimenDate-65_69  newCasesBySpecimenDate-70_74  \\\n",
       "0                             0                             0   \n",
       "1                             0                             0   \n",
       "2                             0                             0   \n",
       "3                             0                             0   \n",
       "4                             0                             0   \n",
       "\n",
       "   newCasesBySpecimenDate-75_79  newCasesBySpecimenDate-80_84  \\\n",
       "0                             0                             0   \n",
       "1                             0                             0   \n",
       "2                             0                             1   \n",
       "3                             0                             0   \n",
       "4                             0                             0   \n",
       "\n",
       "   newCasesBySpecimenDate-85_89  newCasesBySpecimenDate-90+  \\\n",
       "0                             0                           0   \n",
       "1                             0                           0   \n",
       "2                             0                           0   \n",
       "3                             0                           0   \n",
       "4                             1                           0   \n",
       "\n",
       "   newCasesBySpecimenDate-unassigned  \n",
       "0                                  0  \n",
       "1                                  0  \n",
       "2                                  0  \n",
       "3                                  0  \n",
       "4                                  0  \n",
       "\n",
       "[5 rows x 26 columns]"
      ]
     },
     "execution_count": 6,
     "metadata": {},
     "output_type": "execute_result"
    }
   ],
   "source": [
    "temp.head()"
   ]
  },
  {
   "cell_type": "code",
   "execution_count": 7,
   "metadata": {},
   "outputs": [],
   "source": [
    "def plot_cases_per_day(data, col: str, start: str, end: str) -> Tuple[List[int], List[str]]:\n",
    "    \"\"\"plots total number of reported cases daily\"\"\"\n",
    "    res = []\n",
    "    temp = data[data[col].between(start, end)]\n",
    "    uniques = temp[col].unique()\n",
    "    for i in uniques:\n",
    "        t = temp[temp[col] == i]\n",
    "        s = t.drop([\"areaType\", \"areaCode\", \"areaName\", \"date\"], axis=1).sum().sum()\n",
    "        res.append(s)\n",
    "    return res, uniques"
   ]
  },
  {
   "cell_type": "code",
   "execution_count": 8,
   "metadata": {},
   "outputs": [],
   "source": [
    "def plot_cases_per_week(data, col: str, start: str, end: str) -> Tuple[List[int], List[str]]:\n",
    "    \"\"\"plots total number of reported cases daily\"\"\"\n",
    "    res = []\n",
    "    weeks = []\n",
    "    temp = data[data[col].between(start, end)]\n",
    "    uniques = temp[col].unique()\n",
    "    st = 0\n",
    "    en = 7\n",
    "    c = 1\n",
    "    while en <= len(uniques):\n",
    "        ran = uniques[st:en]\n",
    "        st = en\n",
    "        en += 7\n",
    "        nxt = temp[\"date\"].unique()[st:en]\n",
    "        for i in ran:\n",
    "            t = temp[temp[col] == i]\n",
    "            s = t.drop([\"areaType\", \"areaCode\", \"areaName\", \"date\"], axis=1).sum().sum()\n",
    "        res.append(s)\n",
    "        weeks.append(f\"week {c}\")\n",
    "        if len(nxt) < 7:\n",
    "            for i in nxt:\n",
    "                t = temp[temp[col] == i]\n",
    "                s = t.drop([\"areaType\", \"areaCode\", \"areaName\", \"date\"], axis=1).sum().sum()\n",
    "            res.append(s)\n",
    "            weeks.append(f\"week {c + 1}\")\n",
    "            break\n",
    "        else:\n",
    "            pass\n",
    "        c += 1\n",
    "    return res, weeks"
   ]
  },
  {
   "cell_type": "code",
   "execution_count": 9,
   "metadata": {},
   "outputs": [],
   "source": [
    "def plot_monthly_cases(data: pd.DataFrame, col: str) -> Tuple[List[int], List[str]]:\n",
    "    \"\"\"plots the total number of reported cases per month\"\"\"\n",
    "    ms = {\n",
    "        1: \"January\",\n",
    "        2: \"February\",\n",
    "        3: \"March\",\n",
    "        4: \"April\",\n",
    "        5: \"May\",\n",
    "        6: \"June\",\n",
    "        7: \"July\",\n",
    "        8: \"August\",\n",
    "        9: \"September\",\n",
    "        10: \"October\",\n",
    "        11: \"November\",\n",
    "        12: \"December\"\n",
    "    }\n",
    "    new_date = pd.to_datetime(data[col])\n",
    "    months = []\n",
    "    res = []\n",
    "    month_names = []\n",
    "    for d in new_date:\n",
    "        months.append(d.month)\n",
    "    u_m = sorted(list(set(months)))\n",
    "    for i in u_m:\n",
    "        su = 0\n",
    "        for k, d in data.iterrows():\n",
    "            if str(i) in d.values[3].split(\"-\")[1]:\n",
    "                su += d.drop([\"areaType\", \"areaCode\", \"areaName\", \"date\"]).sum()\n",
    "            else:\n",
    "                pass\n",
    "        res.append(su)\n",
    "        month_names.append(ms.get(i))\n",
    "    return res, month_names\n",
    "            \n",
    "    "
   ]
  },
  {
   "cell_type": "code",
   "execution_count": 10,
   "metadata": {},
   "outputs": [],
   "source": [
    "def plot_cases_per_area_day(data: pd.DataFrame, col: str, dat: str) -> Tuple[List[str], List[int]]:\n",
    "    target = data[data[col] == dat].drop([\"areaType\", \"areaCode\", \"date\"], axis=1)\n",
    "    unique_areas = target[\"areaName\"].unique()\n",
    "    areas = []\n",
    "    vals = []\n",
    "    res = []\n",
    "    res_n = []\n",
    "    for a in unique_areas:\n",
    "        t = target[target[\"areaName\"] == a].drop([\"areaName\"], axis=1).sum().sum()\n",
    "        vals.append(t)\n",
    "        areas.append(a)\n",
    "    new_vals = sorted(vals, reverse=True)\n",
    "    for i, k in enumerate(new_vals[:6]):\n",
    "        res.append(k)\n",
    "        res_n.append(areas[vals.index(k)])\n",
    "    return res_n, res"
   ]
  },
  {
   "cell_type": "code",
   "execution_count": 11,
   "metadata": {},
   "outputs": [],
   "source": [
    "def plot_cases_per_area_week(data: pd.DataFrame, col: str, start: str, end: str) -> Tuple[List[str], List[int]]:\n",
    "    \"\"\"plots the areas with the highest positive change in cases over a seven day period\"\"\"\n",
    "    if diff := (datetime.strptime(end, \"%Y-%m-%d\") - datetime.strptime(start, \"%Y-%m-%d\")).days < 7:\n",
    "        raise ValueError(\"Difference in dates not up to seven days\")\n",
    "\n",
    "    first = data[data[col] == start].drop([\"areaType\", \"areaCode\", \"date\"], axis=1)\n",
    "    second = data[data[col] == end].drop([\"areaType\", \"areaCode\", \"date\"], axis=1)\n",
    "    res = []\n",
    "    diff = []\n",
    "    are = []\n",
    "    new_areas = []\n",
    "    areas = data[\"areaName\"].unique()\n",
    "    for area in areas:\n",
    "        ft = first[first[\"areaName\"] == area].drop([\"areaName\"], axis=1).sum().sum()\n",
    "        sd = second[second[\"areaName\"] == area].drop([\"areaName\"], axis=1).sum().sum()\n",
    "        are.append(area)\n",
    "        diff.append(sd - ft)\n",
    "    \n",
    "    new_diff = sorted(diff, reverse=True)\n",
    "    for i, k in enumerate(new_diff[:6]):\n",
    "        res.append(k)\n",
    "        new_areas.append(are[diff.index(k)])\n",
    "    return new_areas, res\n",
    "\n",
    "    \n"
   ]
  },
  {
   "cell_type": "code",
   "execution_count": 12,
   "metadata": {},
   "outputs": [],
   "source": [
    "def plot_areas_compare_day(data: pd.DataFrame, col1: str, col2: str, area1: str, area2: str, start: str, end: str) -> Tuple[List[str], List[int], List[int]]:\n",
    "    \"\"\"plots the daily change in cases for the two areas\"\"\"\n",
    "    if area1 not in data[\"areaName\"].unique() and area2 not in data[\"areaName\"].unique():\n",
    "        raise ValueError(\"The areas are not present in the dataset\")\n",
    "\n",
    "    first = data[data[col1].between(start, end)].drop([\"areaType\", \"areaCode\"], axis=1)\n",
    "    second = data[data[col1].between(start, end)].drop([\"areaType\", \"areaCode\"], axis=1)\n",
    "\n",
    "    ff = first[first[col2] == area1]\n",
    "    ss = second[second[col2] == area2]\n",
    "\n",
    "    s1 = []\n",
    "    s2 = []\n",
    "    day = []\n",
    "\n",
    "    days = ff[col1].unique()\n",
    "    for d in days:\n",
    "        ft = ff[ff[col1] == d].drop([\"areaName\", \"date\"] , axis = 1).sum().sum()\n",
    "        sc = ss[ss[col1] == d].drop([\"areaName\", \"date\"], axis = 1).sum().sum()\n",
    "        s1.append(ft)\n",
    "        s2.append(sc)\n",
    "        day.append(d)\n",
    "    return day, s1, s2"
   ]
  },
  {
   "cell_type": "code",
   "execution_count": 13,
   "metadata": {},
   "outputs": [],
   "source": [
    "def plot_areas_compare_cumm_day(data: pd.DataFrame, col1: str, col2: str, area1: str, area2: str, start: str, end: str) -> Tuple[List[str], List[int], List[int]]:\n",
    "    \"\"\"plots the daily change in cases for the two areas\"\"\"\n",
    "    if area1 not in data[\"areaName\"].unique() and area2 not in data[\"areaName\"].unique():\n",
    "        raise ValueError(\"The areas are not present in the dataset\")\n",
    "\n",
    "    first = data[data[col1].between(start, end)].drop([\"areaType\", \"areaCode\"], axis=1)\n",
    "    second = data[data[col1].between(start, end)].drop([\"areaType\", \"areaCode\"], axis=1)\n",
    "\n",
    "    ff = first[first[col2] == area1]\n",
    "    ss = second[second[col2] == area2]\n",
    "\n",
    "    s1 = []\n",
    "    s2 = []\n",
    "    day = []\n",
    "\n",
    "    days = ff[col1].unique()\n",
    "    for d in days:\n",
    "        ft = ff[ff[col1] == d].drop([\"areaName\", \"date\"] , axis = 1).sum().sum()\n",
    "        sc = ss[ss[col1] == d].drop([\"areaName\", \"date\"], axis = 1).sum().sum()\n",
    "        s1.append(ft)\n",
    "        s2.append(sc)\n",
    "        day.append(d)\n",
    "    \n",
    "    l = len(s1)\n",
    "    cu1 = [sum(s1[0:x:1]) for x in range(0, l + 1)][1:]\n",
    "    cu2 = [sum(s2[0:x:1]) for x in range(0, l + 1)][1:]\n",
    "    return day, cu1, cu2"
   ]
  },
  {
   "cell_type": "code",
   "execution_count": 14,
   "metadata": {},
   "outputs": [],
   "source": [
    "res = []\n",
    "for item in temp[\"date\"].unique():\n",
    "    t = temp[temp[\"date\"] == item]\n",
    "    su = t.drop([\"areaType\", \"areaCode\", \"areaName\", \"date\"], axis=1).sum().sum()\n",
    "    res.append(su)\n",
    "    "
   ]
  },
  {
   "cell_type": "code",
   "execution_count": 15,
   "metadata": {},
   "outputs": [
    {
     "data": {
      "text/plain": [
       "([5388,\n",
       "  6688,\n",
       "  8958,\n",
       "  9108,\n",
       "  10548,\n",
       "  10192,\n",
       "  11940,\n",
       "  19820,\n",
       "  19972,\n",
       "  22216,\n",
       "  25588,\n",
       "  25796,\n",
       "  23456,\n",
       "  24104,\n",
       "  34586,\n",
       "  36996,\n",
       "  40226],\n",
       " array(['2020-03-16', '2020-03-17', '2020-03-18', '2020-03-19',\n",
       "        '2020-03-20', '2020-03-21', '2020-03-22', '2020-03-23',\n",
       "        '2020-03-24', '2020-03-25', '2020-03-26', '2020-03-27',\n",
       "        '2020-03-28', '2020-03-29', '2020-03-30', '2020-03-31',\n",
       "        '2020-04-01'], dtype=object))"
      ]
     },
     "execution_count": 15,
     "metadata": {},
     "output_type": "execute_result"
    }
   ],
   "source": [
    "res, temp[\"date\"].unique()"
   ]
  },
  {
   "cell_type": "code",
   "execution_count": 16,
   "metadata": {},
   "outputs": [
    {
     "data": {
      "image/png": "[encoded data removed]",
      "text/plain": [
       "<Figure size 432x288 with 1 Axes>"
      ]
     },
     "metadata": {
      "needs_background": "light"
     },
     "output_type": "display_data"
    }
   ],
   "source": [
    "plt.plot(temp[\"date\"].unique(), res)\n",
    "plt.xlabel(\"Dates\")\n",
    "plt.ylabel(\"Number of cases\")\n",
    "plt.title(\"Reported cases daily\")\n",
    "plt.tight_layout()"
   ]
  },
  {
   "cell_type": "code",
   "execution_count": 17,
   "metadata": {},
   "outputs": [
    {
     "name": "stdout",
     "output_type": "stream",
     "text": [
      "[11940, 24104, 40226]\n"
     ]
    },
    {
     "data": {
      "image/png": "[encoded data removed]",
      "text/plain": [
       "<Figure size 432x288 with 1 Axes>"
      ]
     },
     "metadata": {
      "needs_background": "light"
     },
     "output_type": "display_data"
    }
   ],
   "source": [
    "val, wks = plot_cases_per_week(new_data, \"date\", \"2020-03-16\", \"2020-04-01\")\n",
    "plt.bar(wks, val)\n",
    "plt.xlabel(\"Weeks\")\n",
    "plt.ylabel(\"Number of Reported cases\")\n",
    "plt.title(\"Number of reported cases per week\")\n",
    "print(val)"
   ]
  },
  {
   "cell_type": "code",
   "execution_count": 18,
   "metadata": {},
   "outputs": [
    {
     "name": "stdout",
     "output_type": "stream",
     "text": [
      "[4924692, 554, 321048, 1147652, 672492, 252384, 190962, 295326, 1264930, 4792684, 131994]\n"
     ]
    },
    {
     "data": {
      "image/png": "[encoded data removed]",
      "text/plain": [
       "<Figure size 432x288 with 1 Axes>"
      ]
     },
     "metadata": {
      "needs_background": "light"
     },
     "output_type": "display_data"
    }
   ],
   "source": [
    "m_val, m_names = plot_monthly_cases(new_data, \"date\")\n",
    "plt.bar(m_names, m_val)\n",
    "plt.xlabel(\"Months\")\n",
    "plt.ylabel(\"Number of Reported cases\")\n",
    "plt.title(\"Number of Reported cases each month\")\n",
    "print(m_val)"
   ]
  },
  {
   "cell_type": "code",
   "execution_count": 19,
   "metadata": {},
   "outputs": [
    {
     "name": "stdout",
     "output_type": "stream",
     "text": [
      "[2166, 2166, 852, 302, 252, 208]\n"
     ]
    },
    {
     "data": {
      "image/png": "[encoded data removed]",
      "text/plain": [
       "<Figure size 432x288 with 1 Axes>"
      ]
     },
     "metadata": {
      "needs_background": "light"
     },
     "output_type": "display_data"
    }
   ],
   "source": [
    "areas, cs = plot_cases_per_area_day(new_data, \"date\", \"2020-03-20\")\n",
    "\n",
    "plt.bar(areas, cs)\n",
    "plt.title(\"Areas with the highest number of reported cases for 2020-03-20\")\n",
    "plt.xlabel(\"Area\")\n",
    "plt.ylabel(\"Number of reported cases\")\n",
    "print(cs)"
   ]
  },
  {
   "cell_type": "code",
   "execution_count": 20,
   "metadata": {},
   "outputs": [
    {
     "name": "stdout",
     "output_type": "stream",
     "text": [
      "[3148, 3148, 790, 502, 412, 346]\n"
     ]
    },
    {
     "data": {
      "image/png": "[encoded data removed]",
      "text/plain": [
       "<Figure size 432x288 with 1 Axes>"
      ]
     },
     "metadata": {
      "needs_background": "light"
     },
     "output_type": "display_data"
    }
   ],
   "source": [
    "na, diff = plot_cases_per_area_week(new_data, \"date\", \"2020-03-20\", \"2020-03-27\")\n",
    "plt.bar(na, diff)\n",
    "plt.title(\"Areas with the highest number of reported cases from 2020-03-20 to 2020-03-27\")\n",
    "plt.xlabel(\"Area\")\n",
    "plt.ylabel(\"Number of reported cases\")\n",
    "print(diff)"
   ]
  },
  {
   "cell_type": "code",
   "execution_count": 21,
   "metadata": {},
   "outputs": [
    {
     "name": "stdout",
     "output_type": "stream",
     "text": [
      "a1 = [2166, 2072, 2418, 4030, 4052, 4526, 5228, 5314]\n",
      "a2 = [852, 702, 874, 1378, 1274, 1518, 1532, 1642]\n"
     ]
    },
    {
     "data": {
      "image/png": "[encoded data removed]",
      "text/plain": [
       "<Figure size 432x288 with 1 Axes>"
      ]
     },
     "metadata": {
      "needs_background": "light"
     },
     "output_type": "display_data"
    }
   ],
   "source": [
    "dt, a1, a2 = plot_areas_compare_day(new_data, \"date\", \"areaName\", \"England\", \"London\", \"2020-03-20\", \"2020-03-27\")\n",
    "plt.plot(dt, a1, \"--\", label = \"England\")\n",
    "plt.plot(dt, a2, label = \"London\")\n",
    "plt.legend()\n",
    "plt.title(\"Daily change in reported cases for England and London\")\n",
    "plt.xlabel(\"Dates\")\n",
    "plt.ylabel(\"Number of Reported cases\")\n",
    "plt.tight_layout()\n",
    "\n",
    "print(f\"a1 = {a1}\")\n",
    "\n",
    "print(f\"a2 = {a2}\")"
   ]
  },
  {
   "cell_type": "code",
   "execution_count": 22,
   "metadata": {},
   "outputs": [
    {
     "name": "stdout",
     "output_type": "stream",
     "text": [
      "a1 = [2166, 4238, 6656, 10686, 14738, 19264, 24492, 29806]\n",
      "a2 = [852, 1554, 2428, 3806, 5080, 6598, 8130, 9772]\n"
     ]
    },
    {
     "data": {
      "image/png": "[encoded data removed]",
      "text/plain": [
       "<Figure size 432x288 with 1 Axes>"
      ]
     },
     "metadata": {
      "needs_background": "light"
     },
     "output_type": "display_data"
    }
   ],
   "source": [
    "ds, aa1, aa2 = plot_areas_compare_cumm_day(new_data, \"date\", \"areaName\", \"England\", \"London\", \"2020-03-20\", \"2020-03-27\")\n",
    "plt.plot(ds, aa1, \"--\", label = \"England\")\n",
    "plt.plot(ds, aa2, label = \"London\")\n",
    "plt.legend()\n",
    "plt.title(\"Cummulative number of cases for England and London\")\n",
    "plt.xlabel(\"Dates\")\n",
    "plt.ylabel(\"Number of Reported cases\")\n",
    "plt.tight_layout()\n",
    "\n",
    "print(f\"a1 = {aa1}\")\n",
    "\n",
    "print(f\"a2 = {aa2}\")"
   ]
  },
  {
   "cell_type": "code",
   "execution_count": null,
   "metadata": {},
   "outputs": [],
   "source": []
  },
  {
   "cell_type": "code",
   "execution_count": null,
   "metadata": {},
   "outputs": [],
   "source": []
  },
  {
   "cell_type": "code",
   "execution_count": null,
   "metadata": {},
   "outputs": [],
   "source": []
  },
  {
   "cell_type": "code",
   "execution_count": null,
   "metadata": {},
   "outputs": [],
   "source": []
  }
 ],
 "metadata": {
  "kernelspec": {
   "display_name": "base",
   "language": "python",
   "name": "python3"
  },
  "language_info": {
   "codemirror_mode": {
    "name": "ipython",
    "version": 3
   },
   "file_extension": ".py",
   "mimetype": "text/x-python",
   "name": "python",
   "nbconvert_exporter": "python",
   "pygments_lexer": "ipython3",
   "version": "3.9.7"
  },
  "vscode": {
   "interpreter": {
    "hash": "263930470851f494f0ed2879c35b57985588df20f9e529b86e97dd5eb9ddc466"
   }
  }
 },
 "nbformat": 4,
 "nbformat_minor": 2
}
